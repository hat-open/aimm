{
 "cells": [
  {
   "cell_type": "markdown",
   "id": "f0662eef",
   "metadata": {},
   "source": [
    "# Iris \n",
    "\n",
    "This example contains code snippets that demonstrate how concrete\n",
    "implementations of machine learning models may be integratied into\n",
    "the AIMM environment as plugins. File `aimm_plugins/plug1.py`\n",
    "contains a simple wrapper around sklearn's SVC implementation and we're\n",
    "going to use this to host a simple iris-recognition service."
   ]
  },
  {
   "cell_type": "code",
   "execution_count": 1,
   "id": "e2cce87c",
   "metadata": {},
   "outputs": [
    {
     "name": "stdout",
     "output_type": "stream",
     "text": [
      "Username: user\n",
      "Password: ········\n"
     ]
    }
   ],
   "source": [
    "from aimm.client import repl\n",
    "\n",
    "aimm = repl.AIMM()\n",
    "await aimm.connect('ws://127.0.0.1:9999/ws')"
   ]
  },
  {
   "cell_type": "code",
   "execution_count": 2,
   "id": "89059957",
   "metadata": {},
   "outputs": [
    {
     "data": {
      "text/plain": [
       "{'models': {}, 'actions': {}}"
      ]
     },
     "execution_count": 2,
     "metadata": {},
     "output_type": "execute_result"
    }
   ],
   "source": [
    "aimm.state"
   ]
  },
  {
   "cell_type": "code",
   "execution_count": 3,
   "id": "63cae05e",
   "metadata": {},
   "outputs": [
    {
     "data": {
      "text/plain": [
       "aimm.client.repl.Model<plugins.sklearn.SVC>(instance_id=1)"
      ]
     },
     "execution_count": 3,
     "metadata": {},
     "output_type": "execute_result"
    }
   ],
   "source": [
    "m = await aimm.create_instance('plugins.sklearn.SVC')\n",
    "m"
   ]
  },
  {
   "cell_type": "code",
   "execution_count": 4,
   "id": "2676d30e",
   "metadata": {},
   "outputs": [
    {
     "data": {
      "text/plain": [
       "{'models': {1: aimm.client.repl.Model<plugins.sklearn.SVC>(instance_id=1)},\n",
       " 'actions': {1: {'meta': {'call': 'create_instance',\n",
       "    'model_type': 'plugins.sklearn.SVC',\n",
       "    'args': [],\n",
       "    'kwargs': {}},\n",
       "   'progress': 'complete'}}}"
      ]
     },
     "execution_count": 4,
     "metadata": {},
     "output_type": "execute_result"
    }
   ],
   "source": [
    "aimm.state"
   ]
  },
  {
   "cell_type": "code",
   "execution_count": 5,
   "id": "73cd0f9a",
   "metadata": {},
   "outputs": [
    {
     "data": {
      "text/plain": [
       "array([0, 0, 0, 0, 0, 0, 0, 0, 0, 0, 0, 0, 0, 0, 0, 0, 0, 0, 0, 0, 0, 0,\n",
       "       0, 0, 0, 0, 0, 0, 0, 0, 0, 0, 0, 0, 0, 0, 0, 0, 0, 0, 0, 0, 0, 0,\n",
       "       0, 0, 0, 0, 0, 0, 1, 1, 1, 1, 1, 1, 1, 1, 1, 1, 1, 1, 1, 1, 1, 1,\n",
       "       1, 1, 1, 1, 2, 1, 1, 1, 1, 1, 1, 2, 1, 1, 1, 1, 1, 2, 1, 1, 1, 1,\n",
       "       1, 1, 1, 1, 1, 1, 1, 1, 1, 1, 1, 1, 2, 2, 2, 2, 2, 2, 2, 2, 2, 2,\n",
       "       2, 2, 2, 2, 2, 2, 2, 2, 2, 2, 2, 2, 2, 2, 2, 2, 2, 2, 2, 2, 2, 2,\n",
       "       2, 2, 2, 2, 2, 2, 2, 2, 2, 2, 2, 2, 2, 2, 2, 2, 2, 2])"
      ]
     },
     "execution_count": 5,
     "metadata": {},
     "output_type": "execute_result"
    }
   ],
   "source": [
    "await m.fit(repl.DataAccessArg('iris_inputs'), repl.DataAccessArg('iris_outputs'))\n",
    "await m.predict(repl.DataAccessArg('iris_inputs'))"
   ]
  },
  {
   "cell_type": "markdown",
   "id": "353604ad",
   "metadata": {},
   "source": [
    "## Local plugin execution\n",
    "\n",
    "All plugins may be executed separate from the AIMM server. The following\n",
    "cells show how a basic workflow of a machine learning model, starting\n",
    "from instantiation, fitting and practical usage - all done through the\n",
    "plugins interface. On it's own, this is not particularly interesting -\n",
    "after all, it would have easier to achieve the same without using the plugin\n",
    "interface and using sklearn's models directly. Still, this shows how\n",
    "AIMM server interprets and uses plugins when performing actions."
   ]
  },
  {
   "cell_type": "code",
   "execution_count": 34,
   "id": "fcaa916c",
   "metadata": {},
   "outputs": [],
   "source": [
    "from aimm import plugins"
   ]
  },
  {
   "cell_type": "code",
   "execution_count": 35,
   "id": "e57fde25",
   "metadata": {},
   "outputs": [],
   "source": [
    "plugins.initialize({'names': ['plugins.sklearn']})\n",
    "svc_type = 'plugins.sklearn.SVC'\n",
    "model = plugins.exec_instantiate(svc_type)\n",
    "\n",
    "x = plugins.exec_data_access('iris_inputs')\n",
    "y = plugins.exec_data_access('iris_outputs')\n",
    "\n",
    "model = plugins.exec_fit(svc_type, model, None, x, y)"
   ]
  },
  {
   "cell_type": "code",
   "execution_count": 36,
   "id": "142b7362",
   "metadata": {},
   "outputs": [
    {
     "name": "stdout",
     "output_type": "stream",
     "text": [
      "prediction: 2\n",
      "correct: 2\n"
     ]
    }
   ],
   "source": [
    "index = 100\n",
    "\n",
    "print('prediction:', plugins.exec_predict(svc_type, model, None, x[index].reshape(1, -1))[0])\n",
    "print('correct:', y[index])"
   ]
  },
  {
   "cell_type": "code",
   "execution_count": null,
   "id": "d178df2a",
   "metadata": {},
   "outputs": [],
   "source": []
  }
 ],
 "metadata": {
  "kernelspec": {
   "display_name": "Python 3 (ipykernel)",
   "language": "python",
   "name": "python3"
  },
  "language_info": {
   "codemirror_mode": {
    "name": "ipython",
    "version": 3
   },
   "file_extension": ".py",
   "mimetype": "text/x-python",
   "name": "python",
   "nbconvert_exporter": "python",
   "pygments_lexer": "ipython3",
   "version": "3.8.13"
  }
 },
 "nbformat": 4,
 "nbformat_minor": 5
}
