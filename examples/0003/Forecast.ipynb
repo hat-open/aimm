{
 "cells": [
  {
   "cell_type": "code",
   "execution_count": 8,
   "id": "3f16cec5",
   "metadata": {},
   "outputs": [],
   "source": [
    "import csv\n",
    "import numpy\n",
    "\n",
    "values = []\n",
    "\n",
    "with open(\"dataset/ambient_temperature_system_failure.csv\", \"r\") as f:\n",
    "    reader = csv.reader(f, delimiter=\"\\t\")\n",
    "    for i, line in enumerate(reader):\n",
    "        if not i:\n",
    "            continue\n",
    "        value = float(line[0].split(',')[1])\n",
    "        value = (float(value) - 32) * 5 / 9\n",
    "\n",
    "        values.append(value)\n",
    "\n",
    "x, y = [], []\n",
    "for i in range(48, len(values) - 24, 24):\n",
    "    x.append(values[i - 48:i])\n",
    "    y.append(values[i:i + 24])\n",
    "\n",
    "x, y = numpy.array(x), numpy.array(y)\n",
    "\n",
    "fit_start = int(len(x) * 0.2)\n",
    "x_fit, y_fit = x[fit_start:], y[fit_start:]\n",
    "x_valid, y_valid = x[:fit_start], y[:fit_start]"
   ]
  },
  {
   "cell_type": "code",
   "execution_count": 43,
   "id": "a13ad51e",
   "metadata": {},
   "outputs": [
    {
     "data": {
      "text/html": [
       "<style>#sk-container-id-11 {color: black;background-color: white;}#sk-container-id-11 pre{padding: 0;}#sk-container-id-11 div.sk-toggleable {background-color: white;}#sk-container-id-11 label.sk-toggleable__label {cursor: pointer;display: block;width: 100%;margin-bottom: 0;padding: 0.3em;box-sizing: border-box;text-align: center;}#sk-container-id-11 label.sk-toggleable__label-arrow:before {content: \"▸\";float: left;margin-right: 0.25em;color: #696969;}#sk-container-id-11 label.sk-toggleable__label-arrow:hover:before {color: black;}#sk-container-id-11 div.sk-estimator:hover label.sk-toggleable__label-arrow:before {color: black;}#sk-container-id-11 div.sk-toggleable__content {max-height: 0;max-width: 0;overflow: hidden;text-align: left;background-color: #f0f8ff;}#sk-container-id-11 div.sk-toggleable__content pre {margin: 0.2em;color: black;border-radius: 0.25em;background-color: #f0f8ff;}#sk-container-id-11 input.sk-toggleable__control:checked~div.sk-toggleable__content {max-height: 200px;max-width: 100%;overflow: auto;}#sk-container-id-11 input.sk-toggleable__control:checked~label.sk-toggleable__label-arrow:before {content: \"▾\";}#sk-container-id-11 div.sk-estimator input.sk-toggleable__control:checked~label.sk-toggleable__label {background-color: #d4ebff;}#sk-container-id-11 div.sk-label input.sk-toggleable__control:checked~label.sk-toggleable__label {background-color: #d4ebff;}#sk-container-id-11 input.sk-hidden--visually {border: 0;clip: rect(1px 1px 1px 1px);clip: rect(1px, 1px, 1px, 1px);height: 1px;margin: -1px;overflow: hidden;padding: 0;position: absolute;width: 1px;}#sk-container-id-11 div.sk-estimator {font-family: monospace;background-color: #f0f8ff;border: 1px dotted black;border-radius: 0.25em;box-sizing: border-box;margin-bottom: 0.5em;}#sk-container-id-11 div.sk-estimator:hover {background-color: #d4ebff;}#sk-container-id-11 div.sk-parallel-item::after {content: \"\";width: 100%;border-bottom: 1px solid gray;flex-grow: 1;}#sk-container-id-11 div.sk-label:hover label.sk-toggleable__label {background-color: #d4ebff;}#sk-container-id-11 div.sk-serial::before {content: \"\";position: absolute;border-left: 1px solid gray;box-sizing: border-box;top: 0;bottom: 0;left: 50%;z-index: 0;}#sk-container-id-11 div.sk-serial {display: flex;flex-direction: column;align-items: center;background-color: white;padding-right: 0.2em;padding-left: 0.2em;position: relative;}#sk-container-id-11 div.sk-item {position: relative;z-index: 1;}#sk-container-id-11 div.sk-parallel {display: flex;align-items: stretch;justify-content: center;background-color: white;position: relative;}#sk-container-id-11 div.sk-item::before, #sk-container-id-11 div.sk-parallel-item::before {content: \"\";position: absolute;border-left: 1px solid gray;box-sizing: border-box;top: 0;bottom: 0;left: 50%;z-index: -1;}#sk-container-id-11 div.sk-parallel-item {display: flex;flex-direction: column;z-index: 1;position: relative;background-color: white;}#sk-container-id-11 div.sk-parallel-item:first-child::after {align-self: flex-end;width: 50%;}#sk-container-id-11 div.sk-parallel-item:last-child::after {align-self: flex-start;width: 50%;}#sk-container-id-11 div.sk-parallel-item:only-child::after {width: 0;}#sk-container-id-11 div.sk-dashed-wrapped {border: 1px dashed gray;margin: 0 0.4em 0.5em 0.4em;box-sizing: border-box;padding-bottom: 0.4em;background-color: white;}#sk-container-id-11 div.sk-label label {font-family: monospace;font-weight: bold;display: inline-block;line-height: 1.2em;}#sk-container-id-11 div.sk-label-container {text-align: center;}#sk-container-id-11 div.sk-container {/* jupyter's `normalize.less` sets `[hidden] { display: none; }` but bootstrap.min.css set `[hidden] { display: none !important; }` so we also need the `!important` here to be able to override the default hidden behavior on the sphinx rendered scikit-learn.org. See: https://github.com/scikit-learn/scikit-learn/issues/21755 */display: inline-block !important;position: relative;}#sk-container-id-11 div.sk-text-repr-fallback {display: none;}</style><div id=\"sk-container-id-11\" class=\"sk-top-container\"><div class=\"sk-text-repr-fallback\"><pre>GridSearchCV(estimator=MultiOutputRegressor(estimator=SVR()),\n",
       "             param_grid={&#x27;estimator__C&#x27;: [6, 7, 8]},\n",
       "             scoring=make_scorer(score, greater_is_better=False))</pre><b>In a Jupyter environment, please rerun this cell to show the HTML representation or trust the notebook. <br />On GitHub, the HTML representation is unable to render, please try loading this page with nbviewer.org.</b></div><div class=\"sk-container\" hidden><div class=\"sk-item sk-dashed-wrapped\"><div class=\"sk-label-container\"><div class=\"sk-label sk-toggleable\"><input class=\"sk-toggleable__control sk-hidden--visually\" id=\"sk-estimator-id-40\" type=\"checkbox\" ><label for=\"sk-estimator-id-40\" class=\"sk-toggleable__label sk-toggleable__label-arrow\">GridSearchCV</label><div class=\"sk-toggleable__content\"><pre>GridSearchCV(estimator=MultiOutputRegressor(estimator=SVR()),\n",
       "             param_grid={&#x27;estimator__C&#x27;: [6, 7, 8]},\n",
       "             scoring=make_scorer(score, greater_is_better=False))</pre></div></div></div><div class=\"sk-parallel\"><div class=\"sk-parallel-item\"><div class=\"sk-item\"><div class=\"sk-label-container\"><div class=\"sk-label sk-toggleable\"><input class=\"sk-toggleable__control sk-hidden--visually\" id=\"sk-estimator-id-41\" type=\"checkbox\" ><label for=\"sk-estimator-id-41\" class=\"sk-toggleable__label sk-toggleable__label-arrow\">estimator: MultiOutputRegressor</label><div class=\"sk-toggleable__content\"><pre>MultiOutputRegressor(estimator=SVR())</pre></div></div></div><div class=\"sk-serial\"><div class=\"sk-item sk-dashed-wrapped\"><div class=\"sk-parallel\"><div class=\"sk-parallel-item\"><div class=\"sk-item\"><div class=\"sk-label-container\"><div class=\"sk-label sk-toggleable\"><input class=\"sk-toggleable__control sk-hidden--visually\" id=\"sk-estimator-id-42\" type=\"checkbox\" ><label for=\"sk-estimator-id-42\" class=\"sk-toggleable__label sk-toggleable__label-arrow\">estimator: SVR</label><div class=\"sk-toggleable__content\"><pre>SVR()</pre></div></div></div><div class=\"sk-serial\"><div class=\"sk-item\"><div class=\"sk-estimator sk-toggleable\"><input class=\"sk-toggleable__control sk-hidden--visually\" id=\"sk-estimator-id-43\" type=\"checkbox\" ><label for=\"sk-estimator-id-43\" class=\"sk-toggleable__label sk-toggleable__label-arrow\">SVR</label><div class=\"sk-toggleable__content\"><pre>SVR()</pre></div></div></div></div></div></div></div></div></div></div></div></div></div></div></div>"
      ],
      "text/plain": [
       "GridSearchCV(estimator=MultiOutputRegressor(estimator=SVR()),\n",
       "             param_grid={'estimator__C': [6, 7, 8]},\n",
       "             scoring=make_scorer(score, greater_is_better=False))"
      ]
     },
     "execution_count": 43,
     "metadata": {},
     "output_type": "execute_result"
    }
   ],
   "source": [
    "import sklearn.model_selection\n",
    "import sklearn.svm\n",
    "import sklearn.multioutput\n",
    "import sklearn.metrics\n",
    "\n",
    "def score(*args, **kwargs):\n",
    "    return sklearn.metrics.mean_squared_error(*args, squared=False, **kwargs)\n",
    "\n",
    "\n",
    "search = sklearn.model_selection.GridSearchCV(\n",
    "    sklearn.multioutput.MultiOutputRegressor(sklearn.svm.SVR()),\n",
    "    {'estimator__C': [6, 7, 8]},\n",
    "    scoring=sklearn.metrics.make_scorer(score, greater_is_better=False))\n",
    "\n",
    "search.fit(x_fit, y_fit)"
   ]
  },
  {
   "cell_type": "code",
   "execution_count": 44,
   "id": "3067769c",
   "metadata": {},
   "outputs": [
    {
     "data": {
      "text/plain": [
       "{'mean_fit_time': array([0.07095089, 0.06982546, 0.07134981]),\n",
       " 'std_fit_time': array([0.0079291 , 0.00245155, 0.00646164]),\n",
       " 'mean_score_time': array([0.01377077, 0.01417546, 0.01358666]),\n",
       " 'std_score_time': array([0.00047489, 0.00053198, 0.00094877]),\n",
       " 'param_estimator__C': masked_array(data=[6, 7, 8],\n",
       "              mask=[False, False, False],\n",
       "        fill_value='?',\n",
       "             dtype=object),\n",
       " 'params': [{'estimator__C': 6}, {'estimator__C': 7}, {'estimator__C': 8}],\n",
       " 'split0_test_score': array([-0.85498773, -0.85945549, -0.86226141]),\n",
       " 'split1_test_score': array([-1.29125325, -1.27631318, -1.26634836]),\n",
       " 'split2_test_score': array([-0.64326025, -0.64460761, -0.64724773]),\n",
       " 'split3_test_score': array([-1.20473515, -1.20882402, -1.21358101]),\n",
       " 'split4_test_score': array([-2.13002372, -2.13233368, -2.13713761]),\n",
       " 'mean_test_score': array([-1.22485202, -1.2243068 , -1.22531523]),\n",
       " 'std_test_score': array([0.50974468, 0.50923959, 0.50974731]),\n",
       " 'rank_test_score': array([2, 1, 3], dtype=int32)}"
      ]
     },
     "execution_count": 44,
     "metadata": {},
     "output_type": "execute_result"
    }
   ],
   "source": [
    "search.cv_results_"
   ]
  },
  {
   "cell_type": "code",
   "execution_count": 45,
   "id": "c0aa92d1",
   "metadata": {},
   "outputs": [
    {
     "data": {
      "text/plain": [
       "({'estimator__C': 7}, -1.2243067951746291)"
      ]
     },
     "execution_count": 45,
     "metadata": {},
     "output_type": "execute_result"
    }
   ],
   "source": [
    "search.best_params_, search.best_score_"
   ]
  },
  {
   "cell_type": "code",
   "execution_count": 46,
   "id": "796c3941",
   "metadata": {},
   "outputs": [
    {
     "data": {
      "text/plain": [
       "1.3016646670951195"
      ]
     },
     "execution_count": 46,
     "metadata": {},
     "output_type": "execute_result"
    }
   ],
   "source": [
    "score(search.best_estimator_.predict(x_valid), y_valid)"
   ]
  },
  {
   "cell_type": "code",
   "execution_count": null,
   "id": "4fe79bcf",
   "metadata": {},
   "outputs": [],
   "source": []
  }
 ],
 "metadata": {
  "kernelspec": {
   "display_name": "Python 3 (ipykernel)",
   "language": "python",
   "name": "python3"
  },
  "language_info": {
   "codemirror_mode": {
    "name": "ipython",
    "version": 3
   },
   "file_extension": ".py",
   "mimetype": "text/x-python",
   "name": "python",
   "nbconvert_exporter": "python",
   "pygments_lexer": "ipython3",
   "version": "3.8.13"
  }
 },
 "nbformat": 4,
 "nbformat_minor": 5
}
